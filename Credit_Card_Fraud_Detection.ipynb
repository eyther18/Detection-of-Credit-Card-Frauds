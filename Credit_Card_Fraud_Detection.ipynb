{
  "nbformat": 4,
  "nbformat_minor": 0,
  "metadata": {
    "colab": {
      "name": "Credit Card Fraud Detection.ipynb",
      "provenance": [],
      "collapsed_sections": [],
      "mount_file_id": "17umh2p2fshx-G32QJVMPuIViqPvgUAyO",
      "authorship_tag": "ABX9TyPeqNTcqlqsPtdJcCqlHksg",
      "include_colab_link": true
    },
    "kernelspec": {
      "name": "python3",
      "display_name": "Python 3"
    },
    "language_info": {
      "name": "python"
    }
  },
  "cells": [
    {
      "cell_type": "markdown",
      "metadata": {
        "id": "view-in-github",
        "colab_type": "text"
      },
      "source": [
        "<a href=\"https://colab.research.google.com/github/eyther18/Detection-of-Credit-Card-Frauds/blob/master/Credit_Card_Fraud_Detection.ipynb\" target=\"_parent\"><img src=\"https://colab.research.google.com/assets/colab-badge.svg\" alt=\"Open In Colab\"/></a>"
      ]
    },
    {
      "cell_type": "markdown",
      "source": [
        "# Credit Card Fraud Detection Using Different Machine Learning Algorithms"
      ],
      "metadata": {
        "id": "9DfxQDfwEscR"
      }
    },
    {
      "cell_type": "markdown",
      "source": [
        "The objective of the project is to detect all the fraudulent transactions while minimizing incorrect fraud classification using various machine-learning techniques.\n",
        "\n",
        "Dataset: https://www.kaggle.com/mlg-ulb/creditcardfraud\n",
        "\n",
        "The dataset contains only numerical input variables which are the result of a PCA transformation. Due to confidentiality issues, the original features and more background information about the data are not provided. Features V1, V2, ... V28 are the principal components obtained with PCA, the only features which have not been transformed with PCA are 'Time' and 'Amount'. Feature 'Time' contains the seconds elapsed between each transaction and the first transaction in the dataset. The feature 'Amount' is the transaction Amount. Feature 'Class' is the response variable and it takes value 1 in case of fraud and 0 otherwise."
      ],
      "metadata": {
        "id": "NHATDnnJFOi7"
      }
    },
    {
      "cell_type": "markdown",
      "source": [
        "# Library imports\n"
      ],
      "metadata": {
        "id": "aMzQOh3ywXK8"
      }
    },
    {
      "cell_type": "code",
      "execution_count": 90,
      "metadata": {
        "id": "OUzwjcQ9myhj"
      },
      "outputs": [],
      "source": [
        "import numpy as np\n",
        "import pandas as pd\n",
        "import sklearn\n",
        "import scipy\n",
        "import matplotlib.pyplot as plt\n",
        "import seaborn as sns\n",
        "import random\n",
        "from sklearn.metrics import classification_report,accuracy_score\n",
        "from sklearn.model_selection import GridSearchCV\n",
        "from pylab import rcParams\n",
        "rcParams['figure.figsize'] = 14, 8\n",
        "RANDOM_SEED = 42\n",
        "LABELS = [\"Normal\", \"Fraud\"]"
      ]
    },
    {
      "cell_type": "markdown",
      "source": [
        "# Data Exploration"
      ],
      "metadata": {
        "id": "5XFou0C7F7sB"
      }
    },
    {
      "cell_type": "code",
      "source": [
        "data = pd.read_csv('/content/drive/MyDrive/Colab Notebooks/creditcard.csv')"
      ],
      "metadata": {
        "id": "P1G133pcwVL-"
      },
      "execution_count": 91,
      "outputs": []
    },
    {
      "cell_type": "code",
      "source": [
        "print('Dataset contains {} rows and {} columns.'.format(data.shape[0], data.shape[1]))"
      ],
      "metadata": {
        "colab": {
          "base_uri": "https://localhost:8080/"
        },
        "id": "fwF5DLXkGJXi",
        "outputId": "33447d17-cb7b-45dc-e9eb-a1edd1a18ddb"
      },
      "execution_count": 92,
      "outputs": [
        {
          "output_type": "stream",
          "name": "stdout",
          "text": [
            "Dataset contains 284807 rows and 31 columns.\n"
          ]
        }
      ]
    },
    {
      "cell_type": "code",
      "source": [
        "data.head()"
      ],
      "metadata": {
        "colab": {
          "base_uri": "https://localhost:8080/",
          "height": 270
        },
        "id": "CZFwwDCBwjMZ",
        "outputId": "61fed0b5-69d2-49fd-a825-9c3a8a749cab"
      },
      "execution_count": 93,
      "outputs": [
        {
          "output_type": "execute_result",
          "data": {
            "text/html": [
              "\n",
              "  <div id=\"df-11232dcd-fd6d-40d3-91d5-3dc5db8e3194\">\n",
              "    <div class=\"colab-df-container\">\n",
              "      <div>\n",
              "<style scoped>\n",
              "    .dataframe tbody tr th:only-of-type {\n",
              "        vertical-align: middle;\n",
              "    }\n",
              "\n",
              "    .dataframe tbody tr th {\n",
              "        vertical-align: top;\n",
              "    }\n",
              "\n",
              "    .dataframe thead th {\n",
              "        text-align: right;\n",
              "    }\n",
              "</style>\n",
              "<table border=\"1\" class=\"dataframe\">\n",
              "  <thead>\n",
              "    <tr style=\"text-align: right;\">\n",
              "      <th></th>\n",
              "      <th>Time</th>\n",
              "      <th>V1</th>\n",
              "      <th>V2</th>\n",
              "      <th>V3</th>\n",
              "      <th>V4</th>\n",
              "      <th>V5</th>\n",
              "      <th>V6</th>\n",
              "      <th>V7</th>\n",
              "      <th>V8</th>\n",
              "      <th>V9</th>\n",
              "      <th>V10</th>\n",
              "      <th>V11</th>\n",
              "      <th>V12</th>\n",
              "      <th>V13</th>\n",
              "      <th>V14</th>\n",
              "      <th>V15</th>\n",
              "      <th>V16</th>\n",
              "      <th>V17</th>\n",
              "      <th>V18</th>\n",
              "      <th>V19</th>\n",
              "      <th>V20</th>\n",
              "      <th>V21</th>\n",
              "      <th>V22</th>\n",
              "      <th>V23</th>\n",
              "      <th>V24</th>\n",
              "      <th>V25</th>\n",
              "      <th>V26</th>\n",
              "      <th>V27</th>\n",
              "      <th>V28</th>\n",
              "      <th>Amount</th>\n",
              "      <th>Class</th>\n",
              "    </tr>\n",
              "  </thead>\n",
              "  <tbody>\n",
              "    <tr>\n",
              "      <th>0</th>\n",
              "      <td>0.0</td>\n",
              "      <td>-1.359807</td>\n",
              "      <td>-0.072781</td>\n",
              "      <td>2.536347</td>\n",
              "      <td>1.378155</td>\n",
              "      <td>-0.338321</td>\n",
              "      <td>0.462388</td>\n",
              "      <td>0.239599</td>\n",
              "      <td>0.098698</td>\n",
              "      <td>0.363787</td>\n",
              "      <td>0.090794</td>\n",
              "      <td>-0.551600</td>\n",
              "      <td>-0.617801</td>\n",
              "      <td>-0.991390</td>\n",
              "      <td>-0.311169</td>\n",
              "      <td>1.468177</td>\n",
              "      <td>-0.470401</td>\n",
              "      <td>0.207971</td>\n",
              "      <td>0.025791</td>\n",
              "      <td>0.403993</td>\n",
              "      <td>0.251412</td>\n",
              "      <td>-0.018307</td>\n",
              "      <td>0.277838</td>\n",
              "      <td>-0.110474</td>\n",
              "      <td>0.066928</td>\n",
              "      <td>0.128539</td>\n",
              "      <td>-0.189115</td>\n",
              "      <td>0.133558</td>\n",
              "      <td>-0.021053</td>\n",
              "      <td>149.62</td>\n",
              "      <td>0</td>\n",
              "    </tr>\n",
              "    <tr>\n",
              "      <th>1</th>\n",
              "      <td>0.0</td>\n",
              "      <td>1.191857</td>\n",
              "      <td>0.266151</td>\n",
              "      <td>0.166480</td>\n",
              "      <td>0.448154</td>\n",
              "      <td>0.060018</td>\n",
              "      <td>-0.082361</td>\n",
              "      <td>-0.078803</td>\n",
              "      <td>0.085102</td>\n",
              "      <td>-0.255425</td>\n",
              "      <td>-0.166974</td>\n",
              "      <td>1.612727</td>\n",
              "      <td>1.065235</td>\n",
              "      <td>0.489095</td>\n",
              "      <td>-0.143772</td>\n",
              "      <td>0.635558</td>\n",
              "      <td>0.463917</td>\n",
              "      <td>-0.114805</td>\n",
              "      <td>-0.183361</td>\n",
              "      <td>-0.145783</td>\n",
              "      <td>-0.069083</td>\n",
              "      <td>-0.225775</td>\n",
              "      <td>-0.638672</td>\n",
              "      <td>0.101288</td>\n",
              "      <td>-0.339846</td>\n",
              "      <td>0.167170</td>\n",
              "      <td>0.125895</td>\n",
              "      <td>-0.008983</td>\n",
              "      <td>0.014724</td>\n",
              "      <td>2.69</td>\n",
              "      <td>0</td>\n",
              "    </tr>\n",
              "    <tr>\n",
              "      <th>2</th>\n",
              "      <td>1.0</td>\n",
              "      <td>-1.358354</td>\n",
              "      <td>-1.340163</td>\n",
              "      <td>1.773209</td>\n",
              "      <td>0.379780</td>\n",
              "      <td>-0.503198</td>\n",
              "      <td>1.800499</td>\n",
              "      <td>0.791461</td>\n",
              "      <td>0.247676</td>\n",
              "      <td>-1.514654</td>\n",
              "      <td>0.207643</td>\n",
              "      <td>0.624501</td>\n",
              "      <td>0.066084</td>\n",
              "      <td>0.717293</td>\n",
              "      <td>-0.165946</td>\n",
              "      <td>2.345865</td>\n",
              "      <td>-2.890083</td>\n",
              "      <td>1.109969</td>\n",
              "      <td>-0.121359</td>\n",
              "      <td>-2.261857</td>\n",
              "      <td>0.524980</td>\n",
              "      <td>0.247998</td>\n",
              "      <td>0.771679</td>\n",
              "      <td>0.909412</td>\n",
              "      <td>-0.689281</td>\n",
              "      <td>-0.327642</td>\n",
              "      <td>-0.139097</td>\n",
              "      <td>-0.055353</td>\n",
              "      <td>-0.059752</td>\n",
              "      <td>378.66</td>\n",
              "      <td>0</td>\n",
              "    </tr>\n",
              "    <tr>\n",
              "      <th>3</th>\n",
              "      <td>1.0</td>\n",
              "      <td>-0.966272</td>\n",
              "      <td>-0.185226</td>\n",
              "      <td>1.792993</td>\n",
              "      <td>-0.863291</td>\n",
              "      <td>-0.010309</td>\n",
              "      <td>1.247203</td>\n",
              "      <td>0.237609</td>\n",
              "      <td>0.377436</td>\n",
              "      <td>-1.387024</td>\n",
              "      <td>-0.054952</td>\n",
              "      <td>-0.226487</td>\n",
              "      <td>0.178228</td>\n",
              "      <td>0.507757</td>\n",
              "      <td>-0.287924</td>\n",
              "      <td>-0.631418</td>\n",
              "      <td>-1.059647</td>\n",
              "      <td>-0.684093</td>\n",
              "      <td>1.965775</td>\n",
              "      <td>-1.232622</td>\n",
              "      <td>-0.208038</td>\n",
              "      <td>-0.108300</td>\n",
              "      <td>0.005274</td>\n",
              "      <td>-0.190321</td>\n",
              "      <td>-1.175575</td>\n",
              "      <td>0.647376</td>\n",
              "      <td>-0.221929</td>\n",
              "      <td>0.062723</td>\n",
              "      <td>0.061458</td>\n",
              "      <td>123.50</td>\n",
              "      <td>0</td>\n",
              "    </tr>\n",
              "    <tr>\n",
              "      <th>4</th>\n",
              "      <td>2.0</td>\n",
              "      <td>-1.158233</td>\n",
              "      <td>0.877737</td>\n",
              "      <td>1.548718</td>\n",
              "      <td>0.403034</td>\n",
              "      <td>-0.407193</td>\n",
              "      <td>0.095921</td>\n",
              "      <td>0.592941</td>\n",
              "      <td>-0.270533</td>\n",
              "      <td>0.817739</td>\n",
              "      <td>0.753074</td>\n",
              "      <td>-0.822843</td>\n",
              "      <td>0.538196</td>\n",
              "      <td>1.345852</td>\n",
              "      <td>-1.119670</td>\n",
              "      <td>0.175121</td>\n",
              "      <td>-0.451449</td>\n",
              "      <td>-0.237033</td>\n",
              "      <td>-0.038195</td>\n",
              "      <td>0.803487</td>\n",
              "      <td>0.408542</td>\n",
              "      <td>-0.009431</td>\n",
              "      <td>0.798278</td>\n",
              "      <td>-0.137458</td>\n",
              "      <td>0.141267</td>\n",
              "      <td>-0.206010</td>\n",
              "      <td>0.502292</td>\n",
              "      <td>0.219422</td>\n",
              "      <td>0.215153</td>\n",
              "      <td>69.99</td>\n",
              "      <td>0</td>\n",
              "    </tr>\n",
              "  </tbody>\n",
              "</table>\n",
              "</div>\n",
              "      <button class=\"colab-df-convert\" onclick=\"convertToInteractive('df-11232dcd-fd6d-40d3-91d5-3dc5db8e3194')\"\n",
              "              title=\"Convert this dataframe to an interactive table.\"\n",
              "              style=\"display:none;\">\n",
              "        \n",
              "  <svg xmlns=\"http://www.w3.org/2000/svg\" height=\"24px\"viewBox=\"0 0 24 24\"\n",
              "       width=\"24px\">\n",
              "    <path d=\"M0 0h24v24H0V0z\" fill=\"none\"/>\n",
              "    <path d=\"M18.56 5.44l.94 2.06.94-2.06 2.06-.94-2.06-.94-.94-2.06-.94 2.06-2.06.94zm-11 1L8.5 8.5l.94-2.06 2.06-.94-2.06-.94L8.5 2.5l-.94 2.06-2.06.94zm10 10l.94 2.06.94-2.06 2.06-.94-2.06-.94-.94-2.06-.94 2.06-2.06.94z\"/><path d=\"M17.41 7.96l-1.37-1.37c-.4-.4-.92-.59-1.43-.59-.52 0-1.04.2-1.43.59L10.3 9.45l-7.72 7.72c-.78.78-.78 2.05 0 2.83L4 21.41c.39.39.9.59 1.41.59.51 0 1.02-.2 1.41-.59l7.78-7.78 2.81-2.81c.8-.78.8-2.07 0-2.86zM5.41 20L4 18.59l7.72-7.72 1.47 1.35L5.41 20z\"/>\n",
              "  </svg>\n",
              "      </button>\n",
              "      \n",
              "  <style>\n",
              "    .colab-df-container {\n",
              "      display:flex;\n",
              "      flex-wrap:wrap;\n",
              "      gap: 12px;\n",
              "    }\n",
              "\n",
              "    .colab-df-convert {\n",
              "      background-color: #E8F0FE;\n",
              "      border: none;\n",
              "      border-radius: 50%;\n",
              "      cursor: pointer;\n",
              "      display: none;\n",
              "      fill: #1967D2;\n",
              "      height: 32px;\n",
              "      padding: 0 0 0 0;\n",
              "      width: 32px;\n",
              "    }\n",
              "\n",
              "    .colab-df-convert:hover {\n",
              "      background-color: #E2EBFA;\n",
              "      box-shadow: 0px 1px 2px rgba(60, 64, 67, 0.3), 0px 1px 3px 1px rgba(60, 64, 67, 0.15);\n",
              "      fill: #174EA6;\n",
              "    }\n",
              "\n",
              "    [theme=dark] .colab-df-convert {\n",
              "      background-color: #3B4455;\n",
              "      fill: #D2E3FC;\n",
              "    }\n",
              "\n",
              "    [theme=dark] .colab-df-convert:hover {\n",
              "      background-color: #434B5C;\n",
              "      box-shadow: 0px 1px 3px 1px rgba(0, 0, 0, 0.15);\n",
              "      filter: drop-shadow(0px 1px 2px rgba(0, 0, 0, 0.3));\n",
              "      fill: #FFFFFF;\n",
              "    }\n",
              "  </style>\n",
              "\n",
              "      <script>\n",
              "        const buttonEl =\n",
              "          document.querySelector('#df-11232dcd-fd6d-40d3-91d5-3dc5db8e3194 button.colab-df-convert');\n",
              "        buttonEl.style.display =\n",
              "          google.colab.kernel.accessAllowed ? 'block' : 'none';\n",
              "\n",
              "        async function convertToInteractive(key) {\n",
              "          const element = document.querySelector('#df-11232dcd-fd6d-40d3-91d5-3dc5db8e3194');\n",
              "          const dataTable =\n",
              "            await google.colab.kernel.invokeFunction('convertToInteractive',\n",
              "                                                     [key], {});\n",
              "          if (!dataTable) return;\n",
              "\n",
              "          const docLinkHtml = 'Like what you see? Visit the ' +\n",
              "            '<a target=\"_blank\" href=https://colab.research.google.com/notebooks/data_table.ipynb>data table notebook</a>'\n",
              "            + ' to learn more about interactive tables.';\n",
              "          element.innerHTML = '';\n",
              "          dataTable['output_type'] = 'display_data';\n",
              "          await google.colab.output.renderOutput(dataTable, element);\n",
              "          const docLink = document.createElement('div');\n",
              "          docLink.innerHTML = docLinkHtml;\n",
              "          element.appendChild(docLink);\n",
              "        }\n",
              "      </script>\n",
              "    </div>\n",
              "  </div>\n",
              "  "
            ],
            "text/plain": [
              "   Time        V1        V2        V3  ...       V27       V28  Amount  Class\n",
              "0   0.0 -1.359807 -0.072781  2.536347  ...  0.133558 -0.021053  149.62      0\n",
              "1   0.0  1.191857  0.266151  0.166480  ... -0.008983  0.014724    2.69      0\n",
              "2   1.0 -1.358354 -1.340163  1.773209  ... -0.055353 -0.059752  378.66      0\n",
              "3   1.0 -0.966272 -0.185226  1.792993  ...  0.062723  0.061458  123.50      0\n",
              "4   2.0 -1.158233  0.877737  1.548718  ...  0.219422  0.215153   69.99      0\n",
              "\n",
              "[5 rows x 31 columns]"
            ]
          },
          "metadata": {},
          "execution_count": 93
        }
      ]
    },
    {
      "cell_type": "code",
      "source": [
        "data.sample(5)"
      ],
      "metadata": {
        "colab": {
          "base_uri": "https://localhost:8080/",
          "height": 270
        },
        "id": "b6D65iEsG2Ok",
        "outputId": "eacb28e7-96b9-4cca-8af5-c60653d9f6ec"
      },
      "execution_count": 94,
      "outputs": [
        {
          "output_type": "execute_result",
          "data": {
            "text/html": [
              "\n",
              "  <div id=\"df-bb4d9295-4016-4713-b447-3b1ee3c70268\">\n",
              "    <div class=\"colab-df-container\">\n",
              "      <div>\n",
              "<style scoped>\n",
              "    .dataframe tbody tr th:only-of-type {\n",
              "        vertical-align: middle;\n",
              "    }\n",
              "\n",
              "    .dataframe tbody tr th {\n",
              "        vertical-align: top;\n",
              "    }\n",
              "\n",
              "    .dataframe thead th {\n",
              "        text-align: right;\n",
              "    }\n",
              "</style>\n",
              "<table border=\"1\" class=\"dataframe\">\n",
              "  <thead>\n",
              "    <tr style=\"text-align: right;\">\n",
              "      <th></th>\n",
              "      <th>Time</th>\n",
              "      <th>V1</th>\n",
              "      <th>V2</th>\n",
              "      <th>V3</th>\n",
              "      <th>V4</th>\n",
              "      <th>V5</th>\n",
              "      <th>V6</th>\n",
              "      <th>V7</th>\n",
              "      <th>V8</th>\n",
              "      <th>V9</th>\n",
              "      <th>V10</th>\n",
              "      <th>V11</th>\n",
              "      <th>V12</th>\n",
              "      <th>V13</th>\n",
              "      <th>V14</th>\n",
              "      <th>V15</th>\n",
              "      <th>V16</th>\n",
              "      <th>V17</th>\n",
              "      <th>V18</th>\n",
              "      <th>V19</th>\n",
              "      <th>V20</th>\n",
              "      <th>V21</th>\n",
              "      <th>V22</th>\n",
              "      <th>V23</th>\n",
              "      <th>V24</th>\n",
              "      <th>V25</th>\n",
              "      <th>V26</th>\n",
              "      <th>V27</th>\n",
              "      <th>V28</th>\n",
              "      <th>Amount</th>\n",
              "      <th>Class</th>\n",
              "    </tr>\n",
              "  </thead>\n",
              "  <tbody>\n",
              "    <tr>\n",
              "      <th>146084</th>\n",
              "      <td>87426.0</td>\n",
              "      <td>-1.411512</td>\n",
              "      <td>1.067355</td>\n",
              "      <td>1.409569</td>\n",
              "      <td>4.292509</td>\n",
              "      <td>0.430227</td>\n",
              "      <td>2.831664</td>\n",
              "      <td>-0.748377</td>\n",
              "      <td>0.944136</td>\n",
              "      <td>-0.633843</td>\n",
              "      <td>1.940432</td>\n",
              "      <td>-0.985189</td>\n",
              "      <td>-1.851693</td>\n",
              "      <td>-2.613686</td>\n",
              "      <td>0.381404</td>\n",
              "      <td>2.129284</td>\n",
              "      <td>-1.032479</td>\n",
              "      <td>1.392070</td>\n",
              "      <td>-1.042910</td>\n",
              "      <td>-0.422861</td>\n",
              "      <td>-0.408872</td>\n",
              "      <td>0.391356</td>\n",
              "      <td>1.241586</td>\n",
              "      <td>0.252731</td>\n",
              "      <td>-1.528922</td>\n",
              "      <td>-1.117990</td>\n",
              "      <td>0.486644</td>\n",
              "      <td>-0.861374</td>\n",
              "      <td>0.089722</td>\n",
              "      <td>0.00</td>\n",
              "      <td>0</td>\n",
              "    </tr>\n",
              "    <tr>\n",
              "      <th>129190</th>\n",
              "      <td>78988.0</td>\n",
              "      <td>-3.250299</td>\n",
              "      <td>2.947622</td>\n",
              "      <td>0.088573</td>\n",
              "      <td>-0.448851</td>\n",
              "      <td>-1.022202</td>\n",
              "      <td>-0.834105</td>\n",
              "      <td>0.031359</td>\n",
              "      <td>0.758654</td>\n",
              "      <td>1.238424</td>\n",
              "      <td>2.301419</td>\n",
              "      <td>0.055077</td>\n",
              "      <td>0.237387</td>\n",
              "      <td>-0.353710</td>\n",
              "      <td>0.023747</td>\n",
              "      <td>1.223213</td>\n",
              "      <td>-0.201050</td>\n",
              "      <td>0.170737</td>\n",
              "      <td>-0.963867</td>\n",
              "      <td>-0.739422</td>\n",
              "      <td>0.998653</td>\n",
              "      <td>-0.412791</td>\n",
              "      <td>-0.653364</td>\n",
              "      <td>0.207393</td>\n",
              "      <td>0.334329</td>\n",
              "      <td>0.148656</td>\n",
              "      <td>0.085056</td>\n",
              "      <td>0.654459</td>\n",
              "      <td>0.382209</td>\n",
              "      <td>11.99</td>\n",
              "      <td>0</td>\n",
              "    </tr>\n",
              "    <tr>\n",
              "      <th>236714</th>\n",
              "      <td>148925.0</td>\n",
              "      <td>2.054881</td>\n",
              "      <td>0.453226</td>\n",
              "      <td>-2.634175</td>\n",
              "      <td>1.331050</td>\n",
              "      <td>1.304640</td>\n",
              "      <td>-0.568705</td>\n",
              "      <td>0.653888</td>\n",
              "      <td>-0.276544</td>\n",
              "      <td>0.213971</td>\n",
              "      <td>-0.357824</td>\n",
              "      <td>-1.215589</td>\n",
              "      <td>-0.366693</td>\n",
              "      <td>-0.447608</td>\n",
              "      <td>-0.977570</td>\n",
              "      <td>-0.240973</td>\n",
              "      <td>-0.010407</td>\n",
              "      <td>0.766954</td>\n",
              "      <td>0.296619</td>\n",
              "      <td>-0.171569</td>\n",
              "      <td>-0.196733</td>\n",
              "      <td>-0.080392</td>\n",
              "      <td>-0.061635</td>\n",
              "      <td>-0.084156</td>\n",
              "      <td>-0.105856</td>\n",
              "      <td>0.559433</td>\n",
              "      <td>-0.479577</td>\n",
              "      <td>-0.006255</td>\n",
              "      <td>-0.027668</td>\n",
              "      <td>20.01</td>\n",
              "      <td>0</td>\n",
              "    </tr>\n",
              "    <tr>\n",
              "      <th>20205</th>\n",
              "      <td>30858.0</td>\n",
              "      <td>1.195735</td>\n",
              "      <td>-0.107186</td>\n",
              "      <td>0.630827</td>\n",
              "      <td>0.865208</td>\n",
              "      <td>-0.802026</td>\n",
              "      <td>-0.681207</td>\n",
              "      <td>-0.207076</td>\n",
              "      <td>-0.006454</td>\n",
              "      <td>0.777335</td>\n",
              "      <td>-0.167236</td>\n",
              "      <td>-0.928545</td>\n",
              "      <td>-0.378551</td>\n",
              "      <td>-1.662469</td>\n",
              "      <td>0.212617</td>\n",
              "      <td>0.042883</td>\n",
              "      <td>-0.107457</td>\n",
              "      <td>0.091642</td>\n",
              "      <td>-0.521386</td>\n",
              "      <td>0.227633</td>\n",
              "      <td>-0.195718</td>\n",
              "      <td>-0.309484</td>\n",
              "      <td>-0.833923</td>\n",
              "      <td>0.085298</td>\n",
              "      <td>0.370699</td>\n",
              "      <td>0.276823</td>\n",
              "      <td>0.184382</td>\n",
              "      <td>-0.028547</td>\n",
              "      <td>0.015999</td>\n",
              "      <td>19.99</td>\n",
              "      <td>0</td>\n",
              "    </tr>\n",
              "    <tr>\n",
              "      <th>47160</th>\n",
              "      <td>43106.0</td>\n",
              "      <td>1.225505</td>\n",
              "      <td>-0.112753</td>\n",
              "      <td>-0.322741</td>\n",
              "      <td>0.540467</td>\n",
              "      <td>-0.076070</td>\n",
              "      <td>-0.542485</td>\n",
              "      <td>0.205918</td>\n",
              "      <td>-0.148953</td>\n",
              "      <td>0.423339</td>\n",
              "      <td>-0.099578</td>\n",
              "      <td>-1.534476</td>\n",
              "      <td>-0.687054</td>\n",
              "      <td>-1.285453</td>\n",
              "      <td>0.425136</td>\n",
              "      <td>0.273169</td>\n",
              "      <td>-0.012629</td>\n",
              "      <td>-0.238446</td>\n",
              "      <td>-0.180518</td>\n",
              "      <td>0.436190</td>\n",
              "      <td>-0.068371</td>\n",
              "      <td>-0.103673</td>\n",
              "      <td>-0.334348</td>\n",
              "      <td>-0.246808</td>\n",
              "      <td>-0.414898</td>\n",
              "      <td>0.709035</td>\n",
              "      <td>0.604709</td>\n",
              "      <td>-0.073539</td>\n",
              "      <td>-0.000345</td>\n",
              "      <td>60.00</td>\n",
              "      <td>0</td>\n",
              "    </tr>\n",
              "  </tbody>\n",
              "</table>\n",
              "</div>\n",
              "      <button class=\"colab-df-convert\" onclick=\"convertToInteractive('df-bb4d9295-4016-4713-b447-3b1ee3c70268')\"\n",
              "              title=\"Convert this dataframe to an interactive table.\"\n",
              "              style=\"display:none;\">\n",
              "        \n",
              "  <svg xmlns=\"http://www.w3.org/2000/svg\" height=\"24px\"viewBox=\"0 0 24 24\"\n",
              "       width=\"24px\">\n",
              "    <path d=\"M0 0h24v24H0V0z\" fill=\"none\"/>\n",
              "    <path d=\"M18.56 5.44l.94 2.06.94-2.06 2.06-.94-2.06-.94-.94-2.06-.94 2.06-2.06.94zm-11 1L8.5 8.5l.94-2.06 2.06-.94-2.06-.94L8.5 2.5l-.94 2.06-2.06.94zm10 10l.94 2.06.94-2.06 2.06-.94-2.06-.94-.94-2.06-.94 2.06-2.06.94z\"/><path d=\"M17.41 7.96l-1.37-1.37c-.4-.4-.92-.59-1.43-.59-.52 0-1.04.2-1.43.59L10.3 9.45l-7.72 7.72c-.78.78-.78 2.05 0 2.83L4 21.41c.39.39.9.59 1.41.59.51 0 1.02-.2 1.41-.59l7.78-7.78 2.81-2.81c.8-.78.8-2.07 0-2.86zM5.41 20L4 18.59l7.72-7.72 1.47 1.35L5.41 20z\"/>\n",
              "  </svg>\n",
              "      </button>\n",
              "      \n",
              "  <style>\n",
              "    .colab-df-container {\n",
              "      display:flex;\n",
              "      flex-wrap:wrap;\n",
              "      gap: 12px;\n",
              "    }\n",
              "\n",
              "    .colab-df-convert {\n",
              "      background-color: #E8F0FE;\n",
              "      border: none;\n",
              "      border-radius: 50%;\n",
              "      cursor: pointer;\n",
              "      display: none;\n",
              "      fill: #1967D2;\n",
              "      height: 32px;\n",
              "      padding: 0 0 0 0;\n",
              "      width: 32px;\n",
              "    }\n",
              "\n",
              "    .colab-df-convert:hover {\n",
              "      background-color: #E2EBFA;\n",
              "      box-shadow: 0px 1px 2px rgba(60, 64, 67, 0.3), 0px 1px 3px 1px rgba(60, 64, 67, 0.15);\n",
              "      fill: #174EA6;\n",
              "    }\n",
              "\n",
              "    [theme=dark] .colab-df-convert {\n",
              "      background-color: #3B4455;\n",
              "      fill: #D2E3FC;\n",
              "    }\n",
              "\n",
              "    [theme=dark] .colab-df-convert:hover {\n",
              "      background-color: #434B5C;\n",
              "      box-shadow: 0px 1px 3px 1px rgba(0, 0, 0, 0.15);\n",
              "      filter: drop-shadow(0px 1px 2px rgba(0, 0, 0, 0.3));\n",
              "      fill: #FFFFFF;\n",
              "    }\n",
              "  </style>\n",
              "\n",
              "      <script>\n",
              "        const buttonEl =\n",
              "          document.querySelector('#df-bb4d9295-4016-4713-b447-3b1ee3c70268 button.colab-df-convert');\n",
              "        buttonEl.style.display =\n",
              "          google.colab.kernel.accessAllowed ? 'block' : 'none';\n",
              "\n",
              "        async function convertToInteractive(key) {\n",
              "          const element = document.querySelector('#df-bb4d9295-4016-4713-b447-3b1ee3c70268');\n",
              "          const dataTable =\n",
              "            await google.colab.kernel.invokeFunction('convertToInteractive',\n",
              "                                                     [key], {});\n",
              "          if (!dataTable) return;\n",
              "\n",
              "          const docLinkHtml = 'Like what you see? Visit the ' +\n",
              "            '<a target=\"_blank\" href=https://colab.research.google.com/notebooks/data_table.ipynb>data table notebook</a>'\n",
              "            + ' to learn more about interactive tables.';\n",
              "          element.innerHTML = '';\n",
              "          dataTable['output_type'] = 'display_data';\n",
              "          await google.colab.output.renderOutput(dataTable, element);\n",
              "          const docLink = document.createElement('div');\n",
              "          docLink.innerHTML = docLinkHtml;\n",
              "          element.appendChild(docLink);\n",
              "        }\n",
              "      </script>\n",
              "    </div>\n",
              "  </div>\n",
              "  "
            ],
            "text/plain": [
              "            Time        V1        V2  ...       V28  Amount  Class\n",
              "146084   87426.0 -1.411512  1.067355  ...  0.089722    0.00      0\n",
              "129190   78988.0 -3.250299  2.947622  ...  0.382209   11.99      0\n",
              "236714  148925.0  2.054881  0.453226  ... -0.027668   20.01      0\n",
              "20205    30858.0  1.195735 -0.107186  ...  0.015999   19.99      0\n",
              "47160    43106.0  1.225505 -0.112753  ... -0.000345   60.00      0\n",
              "\n",
              "[5 rows x 31 columns]"
            ]
          },
          "metadata": {},
          "execution_count": 94
        }
      ]
    },
    {
      "cell_type": "code",
      "source": [
        "data.info()"
      ],
      "metadata": {
        "colab": {
          "base_uri": "https://localhost:8080/"
        },
        "id": "WUhi2LGGI-MY",
        "outputId": "caa7c3a8-66d0-448c-e077-b0fbca087cb5"
      },
      "execution_count": 95,
      "outputs": [
        {
          "output_type": "stream",
          "name": "stdout",
          "text": [
            "<class 'pandas.core.frame.DataFrame'>\n",
            "RangeIndex: 284807 entries, 0 to 284806\n",
            "Data columns (total 31 columns):\n",
            " #   Column  Non-Null Count   Dtype  \n",
            "---  ------  --------------   -----  \n",
            " 0   Time    284807 non-null  float64\n",
            " 1   V1      284807 non-null  float64\n",
            " 2   V2      284807 non-null  float64\n",
            " 3   V3      284807 non-null  float64\n",
            " 4   V4      284807 non-null  float64\n",
            " 5   V5      284807 non-null  float64\n",
            " 6   V6      284807 non-null  float64\n",
            " 7   V7      284807 non-null  float64\n",
            " 8   V8      284807 non-null  float64\n",
            " 9   V9      284807 non-null  float64\n",
            " 10  V10     284807 non-null  float64\n",
            " 11  V11     284807 non-null  float64\n",
            " 12  V12     284807 non-null  float64\n",
            " 13  V13     284807 non-null  float64\n",
            " 14  V14     284807 non-null  float64\n",
            " 15  V15     284807 non-null  float64\n",
            " 16  V16     284807 non-null  float64\n",
            " 17  V17     284807 non-null  float64\n",
            " 18  V18     284807 non-null  float64\n",
            " 19  V19     284807 non-null  float64\n",
            " 20  V20     284807 non-null  float64\n",
            " 21  V21     284807 non-null  float64\n",
            " 22  V22     284807 non-null  float64\n",
            " 23  V23     284807 non-null  float64\n",
            " 24  V24     284807 non-null  float64\n",
            " 25  V25     284807 non-null  float64\n",
            " 26  V26     284807 non-null  float64\n",
            " 27  V27     284807 non-null  float64\n",
            " 28  V28     284807 non-null  float64\n",
            " 29  Amount  284807 non-null  float64\n",
            " 30  Class   284807 non-null  int64  \n",
            "dtypes: float64(30), int64(1)\n",
            "memory usage: 67.4 MB\n"
          ]
        }
      ]
    },
    {
      "cell_type": "code",
      "source": [
        "data.isnull().values.any()"
      ],
      "metadata": {
        "colab": {
          "base_uri": "https://localhost:8080/"
        },
        "id": "Ciw65i-kL1CK",
        "outputId": "e649e864-6bda-4ed5-f574-939505ec2968"
      },
      "execution_count": 96,
      "outputs": [
        {
          "output_type": "execute_result",
          "data": {
            "text/plain": [
              "False"
            ]
          },
          "metadata": {},
          "execution_count": 96
        }
      ]
    },
    {
      "cell_type": "code",
      "source": [
        "count_classes = pd.value_counts(data['Class'], sort = True)\n",
        "\n",
        "print(count_classes)"
      ],
      "metadata": {
        "colab": {
          "base_uri": "https://localhost:8080/"
        },
        "id": "KOp_uskWPejQ",
        "outputId": "6e5ee31e-79e4-42a6-ac21-a17fb0b5f19f"
      },
      "execution_count": 97,
      "outputs": [
        {
          "output_type": "stream",
          "name": "stdout",
          "text": [
            "0    284315\n",
            "1       492\n",
            "Name: Class, dtype: int64\n"
          ]
        }
      ]
    },
    {
      "cell_type": "code",
      "source": [
        "count_classes.plot(kind = 'bar', rot=0)\n",
        "\n",
        "plt.xticks(range(2), LABELS)\n",
        "\n",
        "plt.title(\"Transaction Class Distribution\")\n",
        "\n",
        "plt.xlabel(\"Class\")\n",
        "\n",
        "plt.ylabel(\"Frequency\")\n"
      ],
      "metadata": {
        "colab": {
          "base_uri": "https://localhost:8080/",
          "height": 530
        },
        "id": "tt9V067DREU1",
        "outputId": "9b6ed138-aadf-4ec8-905c-cc7ee9d2378d"
      },
      "execution_count": 98,
      "outputs": [
        {
          "output_type": "execute_result",
          "data": {
            "text/plain": [
              "Text(0, 0.5, 'Frequency')"
            ]
          },
          "metadata": {},
          "execution_count": 98
        },
        {
          "output_type": "display_data",
          "data": {
            "image/png": "[encoded data removed]",
            "text/plain": [
              "<Figure size 1008x576 with 1 Axes>"
            ]
          },
          "metadata": {
            "needs_background": "light"
          }
        }
      ]
    },
    {
      "cell_type": "code",
      "source": [
        "fraud  = data[data['Class']==1]\n",
        "\n",
        "normal = data[data['Class'] == 0]\n",
        "\n",
        "fraud.Amount.describe()"
      ],
      "metadata": {
        "colab": {
          "base_uri": "https://localhost:8080/"
        },
        "id": "YDs7U-YeR43k",
        "outputId": "3eb0c047-5da1-451c-f156-5e03ec2bd0df"
      },
      "execution_count": 99,
      "outputs": [
        {
          "output_type": "execute_result",
          "data": {
            "text/plain": [
              "count     492.000000\n",
              "mean      122.211321\n",
              "std       256.683288\n",
              "min         0.000000\n",
              "25%         1.000000\n",
              "50%         9.250000\n",
              "75%       105.890000\n",
              "max      2125.870000\n",
              "Name: Amount, dtype: float64"
            ]
          },
          "metadata": {},
          "execution_count": 99
        }
      ]
    },
    {
      "cell_type": "code",
      "source": [
        "normal.Amount.describe()"
      ],
      "metadata": {
        "id": "_Xkf_2t8TtWu",
        "outputId": "d692b853-fa1e-46e4-eb42-20b58974e3e9",
        "colab": {
          "base_uri": "https://localhost:8080/"
        }
      },
      "execution_count": 100,
      "outputs": [
        {
          "output_type": "execute_result",
          "data": {
            "text/plain": [
              "count    284315.000000\n",
              "mean         88.291022\n",
              "std         250.105092\n",
              "min           0.000000\n",
              "25%           5.650000\n",
              "50%          22.000000\n",
              "75%          77.050000\n",
              "max       25691.160000\n",
              "Name: Amount, dtype: float64"
            ]
          },
          "metadata": {},
          "execution_count": 100
        }
      ]
    },
    {
      "cell_type": "markdown",
      "source": [
        "Let us take a look at the distribution of 'Time' and 'Amount' features, as they are the only non PCA transformed features"
      ],
      "metadata": {
        "id": "BqgSF1pcMYDP"
      }
    },
    {
      "cell_type": "code",
      "source": [
        "f, (ax1, ax2) = plt.subplots(2, 1, sharex=True)\n",
        "f.suptitle('Amount per transaction by class')\n",
        "bins = 50\n",
        "ax1.hist(fraud.Amount, bins = 5,color=\"Orange\")\n",
        "ax1.set_title('Fraud')\n",
        "ax2.hist(normal.Amount, bins = bins)\n",
        "ax2.set_title('Normal')\n",
        "plt.xlabel('Amount ($)')\n",
        "plt.ylabel('Number of Transactions')\n",
        "plt.xlim((0, 20000))\n",
        "plt.yscale('log')\n",
        "plt.show();"
      ],
      "metadata": {
        "id": "vbTGxl5zTw_u",
        "colab": {
          "base_uri": "https://localhost:8080/",
          "height": 554
        },
        "outputId": "dc69e601-2bba-45f7-b68b-bc0949acee93"
      },
      "execution_count": 101,
      "outputs": [
        {
          "output_type": "display_data",
          "data": {
            "image/png": "[encoded data removed]",
            "text/plain": [
              "<Figure size 1008x576 with 2 Axes>"
            ]
          },
          "metadata": {
            "needs_background": "light"
          }
        }
      ]
    },
    {
      "cell_type": "code",
      "source": [
        "\n",
        "f, (ax1, ax2) = plt.subplots(2, 1, sharex=True)\n",
        "f.suptitle('Time of transaction vs Amount by class')\n",
        "ax1.scatter(fraud.Time, fraud.Amount,color='Orange')\n",
        "ax1.set_title('Fraud')\n",
        "ax2.scatter(normal.Time, normal.Amount)\n",
        "ax2.set_title('Normal')\n",
        "plt.xlabel('Time (in Seconds)')\n",
        "plt.ylabel('Amount')\n",
        "plt.show()"
      ],
      "metadata": {
        "colab": {
          "base_uri": "https://localhost:8080/",
          "height": 554
        },
        "id": "BXdFMKSeYPo_",
        "outputId": "06687f3d-f30d-438c-bf1a-ce7a4f9f3d11"
      },
      "execution_count": 102,
      "outputs": [
        {
          "output_type": "display_data",
          "data": {
            "image/png": "[encoded data removed]",
            "text/plain": [
              "<Figure size 1008x576 with 2 Axes>"
            ]
          },
          "metadata": {
            "needs_background": "light"
          }
        }
      ]
    },
    {
      "cell_type": "code",
      "source": [
        "#finding correlation between columns and plotting heatmap\n",
        "\n",
        "plt.figure(figsize=(12,10))\n",
        "g=sns.heatmap(data.corr(),annot=False,cmap=\"seismic\")"
      ],
      "metadata": {
        "colab": {
          "base_uri": "https://localhost:8080/",
          "height": 625
        },
        "id": "QAQXx7N7dtQI",
        "outputId": "df185a6e-d799-4a2d-8699-7e7b9179ae63"
      },
      "execution_count": 103,
      "outputs": [
        {
          "output_type": "display_data",
          "data": {
            "image/png": "[encoded data removed]",
            "text/plain": [
              "<Figure size 864x720 with 2 Axes>"
            ]
          },
          "metadata": {
            "needs_background": "light"
          }
        }
      ]
    },
    {
      "cell_type": "markdown",
      "source": [
        "# Data Cleaning"
      ],
      "metadata": {
        "id": "AC7iIZ05SgdL"
      }
    },
    {
      "cell_type": "markdown",
      "source": [
        "## *Feature Scaling*\n"
      ],
      "metadata": {
        "id": "8bIwYwzHMrCl"
      }
    },
    {
      "cell_type": "markdown",
      "source": [
        "Anonymised features appear to have been scaled and centred around zero but Amount and Time have not been scaled. For algorithms to perform well, the features have to be scaled."
      ],
      "metadata": {
        "id": "bRNDeOPpMzxr"
      }
    },
    {
      "cell_type": "code",
      "source": [
        "from sklearn.preprocessing import StandardScaler\n",
        "scaler = StandardScaler()\n",
        "scaler2 = StandardScaler()"
      ],
      "metadata": {
        "id": "x1JWRjboM7gj"
      },
      "execution_count": 104,
      "outputs": []
    },
    {
      "cell_type": "code",
      "source": [
        "#scaling Time feature\n",
        "\n",
        "scaled_time = scaler.fit_transform(data[['Time']])\n",
        "flat_list1 = [item for sublist in scaled_time.tolist() for item in sublist]    # making a flat list out of a list of lists\n",
        "scaled_time = pd.Series(flat_list1)"
      ],
      "metadata": {
        "id": "EIQLFmNGNFHB"
      },
      "execution_count": 105,
      "outputs": []
    },
    {
      "cell_type": "code",
      "source": [
        "#scaling Amount feature\n",
        "\n",
        "scaled_amount = scaler2.fit_transform(data[['Amount']])\n",
        "flat_list2 = [item for sublist in scaled_amount.tolist() for item in sublist]\n",
        "scaled_amount = pd.Series(flat_list2)"
      ],
      "metadata": {
        "id": "AcApBZ-cNREp"
      },
      "execution_count": 106,
      "outputs": []
    },
    {
      "cell_type": "code",
      "source": [
        "# adding the scaled features and dropping the unscaled features from the original dataframe\n",
        "\n",
        "df = pd.concat([data, scaled_amount.rename('scaled_amount'), scaled_time.rename('scaled_time')], axis=1)\n",
        "df.drop(['Amount', 'Time'], axis=1, inplace=True)\n",
        "df.sample(5)"
      ],
      "metadata": {
        "colab": {
          "base_uri": "https://localhost:8080/",
          "height": 270
        },
        "id": "PJmp9SsgNWur",
        "outputId": "d007f765-bf9b-4fd4-8619-5eafa1f7e0e6"
      },
      "execution_count": 107,
      "outputs": [
        {
          "output_type": "execute_result",
          "data": {
            "text/html": [
              "\n",
              "  <div id=\"df-c4c851fe-7a4f-44ce-9d74-fbd0dada52d0\">\n",
              "    <div class=\"colab-df-container\">\n",
              "      <div>\n",
              "<style scoped>\n",
              "    .dataframe tbody tr th:only-of-type {\n",
              "        vertical-align: middle;\n",
              "    }\n",
              "\n",
              "    .dataframe tbody tr th {\n",
              "        vertical-align: top;\n",
              "    }\n",
              "\n",
              "    .dataframe thead th {\n",
              "        text-align: right;\n",
              "    }\n",
              "</style>\n",
              "<table border=\"1\" class=\"dataframe\">\n",
              "  <thead>\n",
              "    <tr style=\"text-align: right;\">\n",
              "      <th></th>\n",
              "      <th>V1</th>\n",
              "      <th>V2</th>\n",
              "      <th>V3</th>\n",
              "      <th>V4</th>\n",
              "      <th>V5</th>\n",
              "      <th>V6</th>\n",
              "      <th>V7</th>\n",
              "      <th>V8</th>\n",
              "      <th>V9</th>\n",
              "      <th>V10</th>\n",
              "      <th>V11</th>\n",
              "      <th>V12</th>\n",
              "      <th>V13</th>\n",
              "      <th>V14</th>\n",
              "      <th>V15</th>\n",
              "      <th>V16</th>\n",
              "      <th>V17</th>\n",
              "      <th>V18</th>\n",
              "      <th>V19</th>\n",
              "      <th>V20</th>\n",
              "      <th>V21</th>\n",
              "      <th>V22</th>\n",
              "      <th>V23</th>\n",
              "      <th>V24</th>\n",
              "      <th>V25</th>\n",
              "      <th>V26</th>\n",
              "      <th>V27</th>\n",
              "      <th>V28</th>\n",
              "      <th>Class</th>\n",
              "      <th>scaled_amount</th>\n",
              "      <th>scaled_time</th>\n",
              "    </tr>\n",
              "  </thead>\n",
              "  <tbody>\n",
              "    <tr>\n",
              "      <th>169821</th>\n",
              "      <td>0.913111</td>\n",
              "      <td>-2.552846</td>\n",
              "      <td>-1.448484</td>\n",
              "      <td>-0.566347</td>\n",
              "      <td>-0.988475</td>\n",
              "      <td>0.250747</td>\n",
              "      <td>-0.041555</td>\n",
              "      <td>0.000331</td>\n",
              "      <td>1.289934</td>\n",
              "      <td>-0.481919</td>\n",
              "      <td>0.610878</td>\n",
              "      <td>0.823804</td>\n",
              "      <td>0.046159</td>\n",
              "      <td>0.274447</td>\n",
              "      <td>0.698706</td>\n",
              "      <td>0.621111</td>\n",
              "      <td>-0.865025</td>\n",
              "      <td>0.815139</td>\n",
              "      <td>0.286955</td>\n",
              "      <td>1.056432</td>\n",
              "      <td>0.549769</td>\n",
              "      <td>0.364480</td>\n",
              "      <td>-0.356424</td>\n",
              "      <td>0.315107</td>\n",
              "      <td>-0.526624</td>\n",
              "      <td>0.623546</td>\n",
              "      <td>-0.155603</td>\n",
              "      <td>0.040702</td>\n",
              "      <td>0</td>\n",
              "      <td>2.005641</td>\n",
              "      <td>0.527736</td>\n",
              "    </tr>\n",
              "    <tr>\n",
              "      <th>76466</th>\n",
              "      <td>1.381661</td>\n",
              "      <td>-0.618881</td>\n",
              "      <td>-0.053698</td>\n",
              "      <td>-0.980531</td>\n",
              "      <td>-0.844745</td>\n",
              "      <td>-0.918268</td>\n",
              "      <td>-0.298442</td>\n",
              "      <td>-0.290564</td>\n",
              "      <td>-0.875675</td>\n",
              "      <td>0.625458</td>\n",
              "      <td>-0.880720</td>\n",
              "      <td>-0.257904</td>\n",
              "      <td>0.556834</td>\n",
              "      <td>0.076570</td>\n",
              "      <td>0.900922</td>\n",
              "      <td>-1.165658</td>\n",
              "      <td>-0.156373</td>\n",
              "      <td>0.932832</td>\n",
              "      <td>-0.464393</td>\n",
              "      <td>-0.351952</td>\n",
              "      <td>-0.409335</td>\n",
              "      <td>-0.773375</td>\n",
              "      <td>-0.035807</td>\n",
              "      <td>-0.057294</td>\n",
              "      <td>0.250214</td>\n",
              "      <td>1.447498</td>\n",
              "      <td>-0.101640</td>\n",
              "      <td>0.000846</td>\n",
              "      <td>0</td>\n",
              "      <td>-0.164160</td>\n",
              "      <td>-0.805084</td>\n",
              "    </tr>\n",
              "    <tr>\n",
              "      <th>44363</th>\n",
              "      <td>-0.657453</td>\n",
              "      <td>0.725382</td>\n",
              "      <td>1.324574</td>\n",
              "      <td>1.041091</td>\n",
              "      <td>0.146513</td>\n",
              "      <td>-1.104720</td>\n",
              "      <td>0.786052</td>\n",
              "      <td>-0.152287</td>\n",
              "      <td>-0.611499</td>\n",
              "      <td>-0.048245</td>\n",
              "      <td>-0.161305</td>\n",
              "      <td>0.196896</td>\n",
              "      <td>0.351720</td>\n",
              "      <td>0.276701</td>\n",
              "      <td>0.970245</td>\n",
              "      <td>-0.444282</td>\n",
              "      <td>-0.090328</td>\n",
              "      <td>-0.018803</td>\n",
              "      <td>0.263527</td>\n",
              "      <td>0.352090</td>\n",
              "      <td>0.193689</td>\n",
              "      <td>0.555980</td>\n",
              "      <td>0.062793</td>\n",
              "      <td>0.728613</td>\n",
              "      <td>-0.188934</td>\n",
              "      <td>-0.340462</td>\n",
              "      <td>0.389848</td>\n",
              "      <td>0.240440</td>\n",
              "      <td>0</td>\n",
              "      <td>-0.117462</td>\n",
              "      <td>-1.113940</td>\n",
              "    </tr>\n",
              "    <tr>\n",
              "      <th>119876</th>\n",
              "      <td>-1.064812</td>\n",
              "      <td>0.631247</td>\n",
              "      <td>2.019779</td>\n",
              "      <td>0.282431</td>\n",
              "      <td>0.655525</td>\n",
              "      <td>-0.113485</td>\n",
              "      <td>0.562620</td>\n",
              "      <td>0.268815</td>\n",
              "      <td>-0.564069</td>\n",
              "      <td>-0.687274</td>\n",
              "      <td>1.036166</td>\n",
              "      <td>0.689475</td>\n",
              "      <td>-0.915065</td>\n",
              "      <td>0.246144</td>\n",
              "      <td>-1.305710</td>\n",
              "      <td>-0.433726</td>\n",
              "      <td>-0.079778</td>\n",
              "      <td>-0.381322</td>\n",
              "      <td>-0.608420</td>\n",
              "      <td>-0.142382</td>\n",
              "      <td>0.028052</td>\n",
              "      <td>0.078701</td>\n",
              "      <td>-0.308416</td>\n",
              "      <td>0.206745</td>\n",
              "      <td>0.605004</td>\n",
              "      <td>-0.419640</td>\n",
              "      <td>0.041608</td>\n",
              "      <td>0.053174</td>\n",
              "      <td>0</td>\n",
              "      <td>-0.349231</td>\n",
              "      <td>-0.404246</td>\n",
              "    </tr>\n",
              "    <tr>\n",
              "      <th>275174</th>\n",
              "      <td>-1.713437</td>\n",
              "      <td>1.992477</td>\n",
              "      <td>-1.282566</td>\n",
              "      <td>-0.826902</td>\n",
              "      <td>-0.414038</td>\n",
              "      <td>-0.709109</td>\n",
              "      <td>-0.225639</td>\n",
              "      <td>1.313910</td>\n",
              "      <td>-0.174464</td>\n",
              "      <td>0.008252</td>\n",
              "      <td>0.054034</td>\n",
              "      <td>1.107444</td>\n",
              "      <td>-0.043045</td>\n",
              "      <td>1.073849</td>\n",
              "      <td>-1.069899</td>\n",
              "      <td>0.480132</td>\n",
              "      <td>-0.256911</td>\n",
              "      <td>-0.118963</td>\n",
              "      <td>0.179061</td>\n",
              "      <td>0.021643</td>\n",
              "      <td>-0.196031</td>\n",
              "      <td>-0.633477</td>\n",
              "      <td>0.190692</td>\n",
              "      <td>-0.491007</td>\n",
              "      <td>-0.266904</td>\n",
              "      <td>0.171153</td>\n",
              "      <td>0.187619</td>\n",
              "      <td>0.072414</td>\n",
              "      <td>0</td>\n",
              "      <td>-0.317487</td>\n",
              "      <td>1.507603</td>\n",
              "    </tr>\n",
              "  </tbody>\n",
              "</table>\n",
              "</div>\n",
              "      <button class=\"colab-df-convert\" onclick=\"convertToInteractive('df-c4c851fe-7a4f-44ce-9d74-fbd0dada52d0')\"\n",
              "              title=\"Convert this dataframe to an interactive table.\"\n",
              "              style=\"display:none;\">\n",
              "        \n",
              "  <svg xmlns=\"http://www.w3.org/2000/svg\" height=\"24px\"viewBox=\"0 0 24 24\"\n",
              "       width=\"24px\">\n",
              "    <path d=\"M0 0h24v24H0V0z\" fill=\"none\"/>\n",
              "    <path d=\"M18.56 5.44l.94 2.06.94-2.06 2.06-.94-2.06-.94-.94-2.06-.94 2.06-2.06.94zm-11 1L8.5 8.5l.94-2.06 2.06-.94-2.06-.94L8.5 2.5l-.94 2.06-2.06.94zm10 10l.94 2.06.94-2.06 2.06-.94-2.06-.94-.94-2.06-.94 2.06-2.06.94z\"/><path d=\"M17.41 7.96l-1.37-1.37c-.4-.4-.92-.59-1.43-.59-.52 0-1.04.2-1.43.59L10.3 9.45l-7.72 7.72c-.78.78-.78 2.05 0 2.83L4 21.41c.39.39.9.59 1.41.59.51 0 1.02-.2 1.41-.59l7.78-7.78 2.81-2.81c.8-.78.8-2.07 0-2.86zM5.41 20L4 18.59l7.72-7.72 1.47 1.35L5.41 20z\"/>\n",
              "  </svg>\n",
              "      </button>\n",
              "      \n",
              "  <style>\n",
              "    .colab-df-container {\n",
              "      display:flex;\n",
              "      flex-wrap:wrap;\n",
              "      gap: 12px;\n",
              "    }\n",
              "\n",
              "    .colab-df-convert {\n",
              "      background-color: #E8F0FE;\n",
              "      border: none;\n",
              "      border-radius: 50%;\n",
              "      cursor: pointer;\n",
              "      display: none;\n",
              "      fill: #1967D2;\n",
              "      height: 32px;\n",
              "      padding: 0 0 0 0;\n",
              "      width: 32px;\n",
              "    }\n",
              "\n",
              "    .colab-df-convert:hover {\n",
              "      background-color: #E2EBFA;\n",
              "      box-shadow: 0px 1px 2px rgba(60, 64, 67, 0.3), 0px 1px 3px 1px rgba(60, 64, 67, 0.15);\n",
              "      fill: #174EA6;\n",
              "    }\n",
              "\n",
              "    [theme=dark] .colab-df-convert {\n",
              "      background-color: #3B4455;\n",
              "      fill: #D2E3FC;\n",
              "    }\n",
              "\n",
              "    [theme=dark] .colab-df-convert:hover {\n",
              "      background-color: #434B5C;\n",
              "      box-shadow: 0px 1px 3px 1px rgba(0, 0, 0, 0.15);\n",
              "      filter: drop-shadow(0px 1px 2px rgba(0, 0, 0, 0.3));\n",
              "      fill: #FFFFFF;\n",
              "    }\n",
              "  </style>\n",
              "\n",
              "      <script>\n",
              "        const buttonEl =\n",
              "          document.querySelector('#df-c4c851fe-7a4f-44ce-9d74-fbd0dada52d0 button.colab-df-convert');\n",
              "        buttonEl.style.display =\n",
              "          google.colab.kernel.accessAllowed ? 'block' : 'none';\n",
              "\n",
              "        async function convertToInteractive(key) {\n",
              "          const element = document.querySelector('#df-c4c851fe-7a4f-44ce-9d74-fbd0dada52d0');\n",
              "          const dataTable =\n",
              "            await google.colab.kernel.invokeFunction('convertToInteractive',\n",
              "                                                     [key], {});\n",
              "          if (!dataTable) return;\n",
              "\n",
              "          const docLinkHtml = 'Like what you see? Visit the ' +\n",
              "            '<a target=\"_blank\" href=https://colab.research.google.com/notebooks/data_table.ipynb>data table notebook</a>'\n",
              "            + ' to learn more about interactive tables.';\n",
              "          element.innerHTML = '';\n",
              "          dataTable['output_type'] = 'display_data';\n",
              "          await google.colab.output.renderOutput(dataTable, element);\n",
              "          const docLink = document.createElement('div');\n",
              "          docLink.innerHTML = docLinkHtml;\n",
              "          element.appendChild(docLink);\n",
              "        }\n",
              "      </script>\n",
              "    </div>\n",
              "  </div>\n",
              "  "
            ],
            "text/plain": [
              "              V1        V2        V3  ...  Class  scaled_amount  scaled_time\n",
              "169821  0.913111 -2.552846 -1.448484  ...      0       2.005641     0.527736\n",
              "76466   1.381661 -0.618881 -0.053698  ...      0      -0.164160    -0.805084\n",
              "44363  -0.657453  0.725382  1.324574  ...      0      -0.117462    -1.113940\n",
              "119876 -1.064812  0.631247  2.019779  ...      0      -0.349231    -0.404246\n",
              "275174 -1.713437  1.992477 -1.282566  ...      0      -0.317487     1.507603\n",
              "\n",
              "[5 rows x 31 columns]"
            ]
          },
          "metadata": {},
          "execution_count": 107
        }
      ]
    },
    {
      "cell_type": "markdown",
      "source": [
        "## *Data splitting*"
      ],
      "metadata": {
        "id": "X2qAZAiAN_tB"
      }
    },
    {
      "cell_type": "markdown",
      "source": [
        "The dataset is now split into training set and testing set for further processes."
      ],
      "metadata": {
        "id": "gjeOfviVWGPi"
      }
    },
    {
      "cell_type": "code",
      "source": [
        "from sklearn.model_selection import train_test_split;\n",
        "X = data.iloc[:,:-1]\n",
        "Y= data['Class']\n",
        "\n",
        "\n",
        "X_pretrain, X_test, Y_pretrain, Y_test = train_test_split(X, Y, test_size = 0.35)\n",
        "\n",
        "print(\"Train and test sizes, respectively:\", len(X_pretrain), len(Y_pretrain), \"|\", len(X_test), len(Y_test))\n",
        "\n",
        "print(\"Total number of frauds:\", len(Y.loc[data['Class'] == 1]), len(Y.loc[data['Class'] == 1])/len(Y))\n",
        "\n",
        "print(\"Number of frauds on y_test:\", len(Y_test.loc[data['Class'] == 1]), len(Y_test.loc[data['Class'] == 1]) / len(Y_test))\n",
        "\n",
        "print(\"Number of frauds on y_pretrain:\", len(Y_pretrain.loc[data['Class'] == 1]), len(Y_pretrain.loc[data['Class'] == 1])/len(Y_pretrain))"
      ],
      "metadata": {
        "colab": {
          "base_uri": "https://localhost:8080/"
        },
        "id": "74pqBw1LOHL3",
        "outputId": "bcc924f3-72b6-4f58-fc7c-f049a72878f7"
      },
      "execution_count": 108,
      "outputs": [
        {
          "output_type": "stream",
          "name": "stdout",
          "text": [
            "Train and test sizes, respectively: 185124 185124 | 99683 99683\n",
            "Total number of frauds: 492 0.001727485630620034\n",
            "Number of frauds on y_test: 171 0.0017154379382642978\n",
            "Number of frauds on y_pretrain: 321 0.0017339729046476956\n"
          ]
        }
      ]
    },
    {
      "cell_type": "markdown",
      "source": [
        "## *SMOTE oversampling*"
      ],
      "metadata": {
        "id": "rIWpE6YCProN"
      }
    },
    {
      "cell_type": "markdown",
      "source": [
        "The present dataset is highly imbalanced with the fraud cases forming an extremely small percentage ( < 1% ) of the whole. This poses a problem in training the algorithms. To deal with this problem, the technique of SMOTE oversampling is used."
      ],
      "metadata": {
        "id": "zKtUzZ84U_Hg"
      }
    },
    {
      "cell_type": "code",
      "source": [
        "from imblearn.over_sampling import SMOTE\n",
        "X_train, Y_train = SMOTE().fit_resample(X_pretrain, Y_pretrain)"
      ],
      "metadata": {
        "id": "2R43LAYtP1Ig"
      },
      "execution_count": 109,
      "outputs": []
    },
    {
      "cell_type": "code",
      "source": [
        "pd.value_counts(Y_train, sort = True).plot(kind = 'bar', rot=0)\n",
        "plt.xticks(range(2), LABELS)\n",
        "plt.title(\"Transaction Class Distribution\")\n",
        "plt.xlabel(\"Class\")\n",
        "plt.ylabel(\"Frequency\")"
      ],
      "metadata": {
        "colab": {
          "base_uri": "https://localhost:8080/",
          "height": 530
        },
        "id": "hdk_A7C1P3nd",
        "outputId": "b5589945-afe7-48d5-df53-a933ed8bef1a"
      },
      "execution_count": 110,
      "outputs": [
        {
          "output_type": "execute_result",
          "data": {
            "text/plain": [
              "Text(0, 0.5, 'Frequency')"
            ]
          },
          "metadata": {},
          "execution_count": 110
        },
        {
          "output_type": "display_data",
          "data": {
            "image/png": "[encoded data removed]",
            "text/plain": [
              "<Figure size 1008x576 with 1 Axes>"
            ]
          },
          "metadata": {
            "needs_background": "light"
          }
        }
      ]
    },
    {
      "cell_type": "markdown",
      "source": [
        "# Model Training"
      ],
      "metadata": {
        "id": "4InogfopS1e4"
      }
    },
    {
      "cell_type": "markdown",
      "source": [
        "## 1. Simple Logistic Regression"
      ],
      "metadata": {
        "id": "UDvm8VA38Hoc"
      }
    },
    {
      "cell_type": "code",
      "source": [
        "from sklearn import datasets, linear_model\n",
        "from sklearn.metrics import confusion_matrix"
      ],
      "metadata": {
        "id": "ESHcRtnw8Xo7"
      },
      "execution_count": 111,
      "outputs": []
    },
    {
      "cell_type": "code",
      "source": [
        "logistic = linear_model.LogisticRegression(max_iter = 500)\n",
        "logistic.fit(X_train, Y_train)"
      ],
      "metadata": {
        "colab": {
          "base_uri": "https://localhost:8080/"
        },
        "id": "1f1p3O8SAC1R",
        "outputId": "a9cc8182-9cc9-4287-cd9b-27c6e1518a7c"
      },
      "execution_count": 112,
      "outputs": [
        {
          "output_type": "execute_result",
          "data": {
            "text/plain": [
              "LogisticRegression(max_iter=500)"
            ]
          },
          "metadata": {},
          "execution_count": 112
        }
      ]
    },
    {
      "cell_type": "code",
      "source": [
        "Y_predicted = np.array(logistic.predict(X_test))\n",
        "Y_right = np.array(Y_test)\n",
        "g = confusion_matrix(Y_right,Y_predicted)\n",
        "g"
      ],
      "metadata": {
        "colab": {
          "base_uri": "https://localhost:8080/"
        },
        "id": "w1owjUV5Aw2R",
        "outputId": "3609fa58-a204-4f37-c67b-a8b8a4787097"
      },
      "execution_count": 113,
      "outputs": [
        {
          "output_type": "execute_result",
          "data": {
            "text/plain": [
              "array([[97342,  2170],\n",
              "       [   18,   153]])"
            ]
          },
          "metadata": {},
          "execution_count": 113
        }
      ]
    },
    {
      "cell_type": "code",
      "source": [
        "plt.figure(figsize=(5,5))\n",
        "sns.heatmap(g,linewidths=.5,annot=True,cmap=\"cool\")"
      ],
      "metadata": {
        "colab": {
          "base_uri": "https://localhost:8080/",
          "height": 338
        },
        "id": "q4inpjAKOgsS",
        "outputId": "d01b96e0-b678-41de-808e-fec3c0cc5af4"
      },
      "execution_count": 114,
      "outputs": [
        {
          "output_type": "execute_result",
          "data": {
            "text/plain": [
              "<matplotlib.axes._subplots.AxesSubplot at 0x7f8794acc990>"
            ]
          },
          "metadata": {},
          "execution_count": 114
        },
        {
          "output_type": "display_data",
          "data": {
            "image/png": "[encoded data removed]",
            "text/plain": [
              "<Figure size 360x360 with 2 Axes>"
            ]
          },
          "metadata": {
            "needs_background": "light"
          }
        }
      ]
    },
    {
      "cell_type": "code",
      "source": [
        "false_pos = g[0][1]\n",
        "\n",
        "false_neg = g[1][0]\n",
        "\n",
        "false_neg_rate = false_neg/(false_pos+false_neg)\n",
        "\n",
        "accuracy = (len(X_test) - (false_neg + false_pos)) / len(X_test)\n",
        "\n",
        "print(\"Accuracy:\", accuracy)\n",
        "print(\"False negative rate (with respect to misclassifications): \", false_neg_rate)\n",
        "print(\"False negative rate (with respect to all the data): \", false_neg / len(X_test))\n",
        "print(\"False negatives, false positives, mispredictions:\", false_neg, false_pos, false_neg + false_pos)\n",
        "print(\"Total test data points:\", len(X_test))\n"
      ],
      "metadata": {
        "colab": {
          "base_uri": "https://localhost:8080/"
        },
        "id": "twinDdPakLnE",
        "outputId": "e2bc1ad4-96a6-4dde-c378-72095ee1bf1f"
      },
      "execution_count": 115,
      "outputs": [
        {
          "output_type": "stream",
          "name": "stdout",
          "text": [
            "Accuracy: 0.9780504198308638\n",
            "False negative rate (with respect to misclassifications):  0.008226691042047532\n",
            "False negative rate (with respect to all the data):  0.00018057241455413662\n",
            "False negatives, false positives, mispredictions: 18 2170 2188\n",
            "Total test data points: 99683\n"
          ]
        }
      ]
    },
    {
      "cell_type": "markdown",
      "source": [
        "## 2. K NN"
      ],
      "metadata": {
        "id": "K8ttMYA-gYzk"
      }
    },
    {
      "cell_type": "code",
      "source": [
        "from sklearn.cluster import KMeans\n",
        "from sklearn.decomposition import PCA\n",
        "from sklearn.preprocessing import scale"
      ],
      "metadata": {
        "id": "ZueRo0n-ggts"
      },
      "execution_count": 116,
      "outputs": []
    },
    {
      "cell_type": "code",
      "source": [
        "X_scaled = scale(X)\n",
        "\n",
        "pca = PCA(n_components=2)\n",
        "\n",
        "X_reduced = pca.fit_transform(X_scaled)\n",
        "\n",
        "X_train2, X_test2, Y_train2, Y_test2 = train_test_split(X_reduced, Y, test_size = 0.33, random_state=500)"
      ],
      "metadata": {
        "id": "xgfopi9EhVab"
      },
      "execution_count": 117,
      "outputs": []
    },
    {
      "cell_type": "code",
      "source": [
        "kmeans = KMeans(init = 'k-means++', n_clusters=2,n_init=10)\n",
        "\n",
        "kmeans.fit(X_train2)"
      ],
      "metadata": {
        "colab": {
          "base_uri": "https://localhost:8080/"
        },
        "id": "_gSA7LosgmML",
        "outputId": "91f3b5a2-a875-4139-d04d-d61e4ada8d18"
      },
      "execution_count": 118,
      "outputs": [
        {
          "output_type": "execute_result",
          "data": {
            "text/plain": [
              "KMeans(n_clusters=2)"
            ]
          },
          "metadata": {},
          "execution_count": 118
        }
      ]
    },
    {
      "cell_type": "code",
      "source": [
        "Y_predicted2 = np.array(kmeans.predict(X_test2))\n",
        "\n",
        "Y_right2 = np.array(Y_test2)\n",
        "\n",
        "g2 = confusion_matrix(Y_right2, Y_predicted2)\n",
        "\n",
        "g2"
      ],
      "metadata": {
        "colab": {
          "base_uri": "https://localhost:8080/"
        },
        "id": "HPBHNhaxtiGd",
        "outputId": "8c91efa5-049c-46d7-c233-fa8014d1c1b0"
      },
      "execution_count": 119,
      "outputs": [
        {
          "output_type": "execute_result",
          "data": {
            "text/plain": [
              "array([[42289, 51532],\n",
              "       [   58,   108]])"
            ]
          },
          "metadata": {},
          "execution_count": 119
        }
      ]
    },
    {
      "cell_type": "code",
      "source": [
        "plt.figure(figsize=(5,5))\n",
        "\n",
        "sns.heatmap(g2,linewidths=.5,annot=True,cmap=\"cool\")"
      ],
      "metadata": {
        "colab": {
          "base_uri": "https://localhost:8080/",
          "height": 338
        },
        "id": "dMI-9_jmuAYT",
        "outputId": "89dd36b3-2cac-46a4-e09e-d907ef8c04c5"
      },
      "execution_count": 120,
      "outputs": [
        {
          "output_type": "execute_result",
          "data": {
            "text/plain": [
              "<matplotlib.axes._subplots.AxesSubplot at 0x7f8794cf2510>"
            ]
          },
          "metadata": {},
          "execution_count": 120
        },
        {
          "output_type": "display_data",
          "data": {
            "image/png": "[encoded data removed]",
            "text/plain": [
              "<Figure size 360x360 with 2 Axes>"
            ]
          },
          "metadata": {
            "needs_background": "light"
          }
        }
      ]
    },
    {
      "cell_type": "code",
      "source": [
        "h = .01     # point in the mesh [x_min, x_max]x[y_min, y_max].\n",
        "\n",
        "# Plot the decision boundary. For that, we will assign a color to each\n",
        "x_min, x_max = X_reduced[:, 0].min() - 1, X_reduced[:, 0].max() + 1\n",
        "y_min, y_max = X_reduced[:, 1].min() - 1, X_reduced[:, 1].max() + 1\n",
        "xx, yy = np.meshgrid(np.arange(x_min, x_max, h), np.arange(y_min, y_max, h))\n",
        "# Obtain labels for each point in mesh. Use last trained model.\n",
        "Z = kmeans.predict(np.c_[xx.ravel(), yy.ravel()])\n",
        "\n",
        "# Put the result into a color plot\n",
        "Z = Z.reshape(xx.shape)\n",
        "plt.figure(1)\n",
        "plt.clf()\n",
        "plt.imshow(Z, interpolation='nearest',\n",
        "           extent=(xx.min(), xx.max(), yy.min(), yy.max()),\n",
        "           cmap=\"winter\",\n",
        "           aspect='auto', origin='lower')\n",
        "\n",
        "plt.plot(X_reduced[:, 0], X_reduced[:, 1], 'k.', markersize=2)\n",
        "# Plot the centroids as a white X\n",
        "centroids = kmeans.cluster_centers_\n",
        "plt.scatter(centroids[:, 0], centroids[:, 1],\n",
        "            marker='x', s=169, linewidths=3,\n",
        "            color='w', zorder=10)\n",
        "plt.title('K-means clustering on the credit card fraud dataset (PCA-reduced data)\\n'\n",
        "          'Centroids are marked with white cross')\n",
        "plt.xlim(x_min, x_max)\n",
        "plt.ylim(y_min, y_max)\n",
        "plt.xticks(())\n",
        "plt.yticks(())\n",
        "plt.show()"
      ],
      "metadata": {
        "colab": {
          "base_uri": "https://localhost:8080/",
          "height": 500
        },
        "id": "JFYVATCSnmCy",
        "outputId": "840dc56b-e56e-4807-a733-e4cf4d45d276"
      },
      "execution_count": 121,
      "outputs": [
        {
          "output_type": "display_data",
          "data": {
            "image/png": "[encoded data removed]",
            "text/plain": [
              "<Figure size 1008x576 with 1 Axes>"
            ]
          },
          "metadata": {}
        }
      ]
    },
    {
      "cell_type": "code",
      "source": [
        "false_pos = g2[0][1]\n",
        "\n",
        "false_neg = g2[1][0]\n",
        "\n",
        "false_neg_rate = false_neg/(false_pos+false_neg)\n",
        "\n",
        "accuracy = (len(X_test2) - (false_neg + false_pos)) / len(X_test2)\n",
        "\n",
        "print(\"Accuracy:\", accuracy)\n",
        "print(\"False negative rate (with respect to misclassifications): \", false_neg_rate)\n",
        "print(\"False negative rate (with respect to all the data): \", false_neg / len(X_test2))\n",
        "print(\"False negatives, false positives, mispredictions:\", false_neg, false_pos, false_neg + false_pos)\n",
        "print(\"Total test data points:\", len(X_test2))"
      ],
      "metadata": {
        "id": "kKU6t0aXD8dl",
        "colab": {
          "base_uri": "https://localhost:8080/"
        },
        "outputId": "dab1e0a2-dea9-4c49-91bc-5217db18fb9c"
      },
      "execution_count": 122,
      "outputs": [
        {
          "output_type": "stream",
          "name": "stdout",
          "text": [
            "Accuracy: 0.45109430027557\n",
            "False negative rate (with respect to misclassifications):  0.0011242488854429154\n",
            "False negative rate (with respect to all the data):  0.000617106621128454\n",
            "False negatives, false positives, mispredictions: 58 51532 51590\n",
            "Total test data points: 93987\n"
          ]
        }
      ]
    },
    {
      "cell_type": "markdown",
      "source": [
        "## 3. Random Forest"
      ],
      "metadata": {
        "id": "_5Sa0wlcDCKU"
      }
    },
    {
      "cell_type": "code",
      "source": [
        "from sklearn.ensemble import RandomForestClassifier"
      ],
      "metadata": {
        "id": "EIo0ud9AwfIr"
      },
      "execution_count": 123,
      "outputs": []
    },
    {
      "cell_type": "code",
      "source": [
        "random_forest = RandomForestClassifier(n_estimators=20,criterion='entropy', random_state=0,max_depth=10)\n",
        "random_forest.fit(X_train, Y_train)"
      ],
      "metadata": {
        "colab": {
          "base_uri": "https://localhost:8080/"
        },
        "id": "SU2Y2J5FQxZv",
        "outputId": "b824f7bb-3093-4343-f79d-29a51ef4c3b7"
      },
      "execution_count": 124,
      "outputs": [
        {
          "output_type": "execute_result",
          "data": {
            "text/plain": [
              "RandomForestClassifier(criterion='entropy', max_depth=10, n_estimators=20,\n",
              "                       random_state=0)"
            ]
          },
          "metadata": {},
          "execution_count": 124
        }
      ]
    },
    {
      "cell_type": "code",
      "source": [
        "Y_predicted3 = np.array(random_forest.predict(X_test))\n",
        "\n",
        "Y_right3 = np.array(Y_test)\n",
        "\n",
        "g3 = confusion_matrix(Y_right3, Y_predicted3)\n",
        "\n",
        "g3"
      ],
      "metadata": {
        "colab": {
          "base_uri": "https://localhost:8080/"
        },
        "id": "veoc1984RUE0",
        "outputId": "404b88fb-b34f-49f6-b324-a35a773e3fad"
      },
      "execution_count": 125,
      "outputs": [
        {
          "output_type": "execute_result",
          "data": {
            "text/plain": [
              "array([[99295,   217],\n",
              "       [   18,   153]])"
            ]
          },
          "metadata": {},
          "execution_count": 125
        }
      ]
    },
    {
      "cell_type": "code",
      "source": [
        "plt.figure(figsize=(5,5))\n",
        "\n",
        "sns.heatmap(g3,linewidths=.5,annot=True,cmap=\"cool\")"
      ],
      "metadata": {
        "colab": {
          "base_uri": "https://localhost:8080/",
          "height": 338
        },
        "id": "f-yvpPNfUNvP",
        "outputId": "1c591f77-32de-458c-d8ab-9fc6a294a063"
      },
      "execution_count": 126,
      "outputs": [
        {
          "output_type": "execute_result",
          "data": {
            "text/plain": [
              "<matplotlib.axes._subplots.AxesSubplot at 0x7f87948f5390>"
            ]
          },
          "metadata": {},
          "execution_count": 126
        },
        {
          "output_type": "display_data",
          "data": {
            "image/png": "[encoded data removed]",
            "text/plain": [
              "<Figure size 360x360 with 2 Axes>"
            ]
          },
          "metadata": {
            "needs_background": "light"
          }
        }
      ]
    },
    {
      "cell_type": "code",
      "source": [
        "false_pos = g3[0][1]\n",
        "\n",
        "false_neg = g3[1][0]\n",
        "\n",
        "false_neg_rate = false_neg/(false_pos+false_neg)\n",
        "\n",
        "accuracy = (len(X_test) - (false_neg + false_pos)) / len(X_test)\n",
        "\n",
        "print(\"Accuracy:\", accuracy)\n",
        "print(\"False negative rate (with respect to misclassifications): \", false_neg_rate)\n",
        "print(\"False negative rate (with respect to all the data): \", false_neg / len(X_test))\n",
        "print(\"False negatives, false positives, mispredictions:\", false_neg, false_pos, false_neg + false_pos)\n",
        "print(\"Total test data points:\", len(X_test))"
      ],
      "metadata": {
        "colab": {
          "base_uri": "https://localhost:8080/"
        },
        "id": "7A8fw7wwRoJN",
        "outputId": "9392f65a-261f-4863-a0aa-2285c7428ee4"
      },
      "execution_count": 127,
      "outputs": [
        {
          "output_type": "stream",
          "name": "stdout",
          "text": [
            "Accuracy: 0.9976425268099877\n",
            "False negative rate (with respect to misclassifications):  0.07659574468085106\n",
            "False negative rate (with respect to all the data):  0.00018057241455413662\n",
            "False negatives, false positives, mispredictions: 18 217 235\n",
            "Total test data points: 99683\n"
          ]
        }
      ]
    },
    {
      "cell_type": "markdown",
      "source": [
        "## 4. SVM"
      ],
      "metadata": {
        "id": "a0BeY48mleny"
      }
    },
    {
      "cell_type": "code",
      "source": [
        "from sklearn.svm import LinearSVC"
      ],
      "metadata": {
        "id": "HSFe0cMUlk9b"
      },
      "execution_count": 128,
      "outputs": []
    },
    {
      "cell_type": "code",
      "source": [
        "svc_model = LinearSVC()\n",
        "svc_model.fit(X_train, Y_train)"
      ],
      "metadata": {
        "colab": {
          "base_uri": "https://localhost:8080/"
        },
        "id": "fFNw5iHqmMQ1",
        "outputId": "3d680755-eb4e-4075-fe96-1cfaeae0f8e3"
      },
      "execution_count": 129,
      "outputs": [
        {
          "output_type": "stream",
          "name": "stderr",
          "text": [
            "/usr/local/lib/python3.7/dist-packages/sklearn/svm/_base.py:1208: ConvergenceWarning: Liblinear failed to converge, increase the number of iterations.\n",
            "  ConvergenceWarning,\n"
          ]
        },
        {
          "output_type": "execute_result",
          "data": {
            "text/plain": [
              "LinearSVC()"
            ]
          },
          "metadata": {},
          "execution_count": 129
        }
      ]
    },
    {
      "cell_type": "code",
      "source": [
        "Y_predicted5 = np.array(svc_model.predict(X_test))\n",
        "\n",
        "Y_right5 = np.array(Y_test)\n",
        "\n",
        "g5 = confusion_matrix(Y_right5, Y_predicted5)\n",
        "\n",
        "g5"
      ],
      "metadata": {
        "colab": {
          "base_uri": "https://localhost:8080/"
        },
        "id": "syKWtfewmpjn",
        "outputId": "7d22098b-5788-45da-bfd5-51f4ef96a47f"
      },
      "execution_count": 130,
      "outputs": [
        {
          "output_type": "execute_result",
          "data": {
            "text/plain": [
              "array([[96974,  2538],\n",
              "       [   28,   143]])"
            ]
          },
          "metadata": {},
          "execution_count": 130
        }
      ]
    },
    {
      "cell_type": "code",
      "source": [
        "plt.figure(figsize=(5,5))\n",
        "\n",
        "sns.heatmap(g5,linewidths=.5,annot=True,cmap=\"cool\")"
      ],
      "metadata": {
        "colab": {
          "base_uri": "https://localhost:8080/",
          "height": 338
        },
        "id": "8tkXAPXNmw_P",
        "outputId": "8b573a33-5eb7-4e5f-cc38-ddab5cf50571"
      },
      "execution_count": 131,
      "outputs": [
        {
          "output_type": "execute_result",
          "data": {
            "text/plain": [
              "<matplotlib.axes._subplots.AxesSubplot at 0x7f8794c12110>"
            ]
          },
          "metadata": {},
          "execution_count": 131
        },
        {
          "output_type": "display_data",
          "data": {
            "image/png": "[encoded data removed]",
            "text/plain": [
              "<Figure size 360x360 with 2 Axes>"
            ]
          },
          "metadata": {
            "needs_background": "light"
          }
        }
      ]
    },
    {
      "cell_type": "code",
      "source": [
        "false_pos = g5[0][1]\n",
        "\n",
        "false_neg = g5[1][0]\n",
        "\n",
        "false_neg_rate = false_neg/(false_pos+false_neg)\n",
        "\n",
        "accuracy = (len(X_test) - (false_neg + false_pos)) / len(X_test)\n",
        "\n",
        "print(\"Accuracy:\", accuracy)\n",
        "print(\"False negative rate (with respect to misclassifications): \", false_neg_rate)\n",
        "print(\"False negative rate (with respect to all the data): \", false_neg / len(X_test))\n",
        "print(\"False negatives, false positives, mispredictions:\", false_neg, false_pos, false_neg + false_pos)\n",
        "print(\"Total test data points:\", len(X_test))"
      ],
      "metadata": {
        "colab": {
          "base_uri": "https://localhost:8080/"
        },
        "id": "1aA8hGI_m2B3",
        "outputId": "b349b2cb-c89b-4bf6-9afb-50be1bc8ccbf"
      },
      "execution_count": 132,
      "outputs": [
        {
          "output_type": "stream",
          "name": "stdout",
          "text": [
            "Accuracy: 0.9742583991252269\n",
            "False negative rate (with respect to misclassifications):  0.010911925175370226\n",
            "False negative rate (with respect to all the data):  0.0002808904226397681\n",
            "False negatives, false positives, mispredictions: 28 2538 2566\n",
            "Total test data points: 99683\n"
          ]
        }
      ]
    },
    {
      "cell_type": "code",
      "source": [
        ""
      ],
      "metadata": {
        "id": "5Uq5j0vFhGn-"
      },
      "execution_count": 132,
      "outputs": []
    },
    {
      "cell_type": "markdown",
      "source": [
        "# Conclusion"
      ],
      "metadata": {
        "id": "HyPbHV_5pOKg"
      }
    },
    {
      "cell_type": "markdown",
      "source": [
        "Based on the accuracy score Random Forest outperformed all the other algorithms with an accuracy of 99.76%. Worst amongst them was KNN with an accuracy of 45.10%. But accuracy is not the correct representation in the real world scenario. The better comparision feature would be False Negative Rate. False Negative here means fraud was commited with it wasn't detected (hence False Negatives should be low). In case of \n",
        "Random Forest both the misclassifications and false negatives were significantly low. Hence, Random Forest can be considered as the best amongst all of them. \n",
        "\n",
        "We can work on tuning the hyperparameters of Random Forest using Grid Search to get even better results."
      ],
      "metadata": {
        "id": "xnubLyybpYcM"
      }
    }
  ]
}